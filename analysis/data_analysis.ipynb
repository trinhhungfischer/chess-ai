{
 "cells": [
  {
   "cell_type": "markdown",
   "metadata": {},
   "source": [
    "# Import library and import data"
   ]
  },
  {
   "cell_type": "code",
   "execution_count": 5,
   "metadata": {},
   "outputs": [],
   "source": [
    "import chess\n",
    "import chess.pgn as pgn\n",
    "import pandas as pd\n",
    "import matplotlib.pylab as plt\n",
    "import seaborn as sns\n",
    "import os"
   ]
  },
  {
   "cell_type": "markdown",
   "metadata": {},
   "source": [
    "# ETL data\n",
    "**Caution: If the directory \"./piece-analysis.csv\" existed and had data, you can pass this part.**\n",
    "\n",
    "\n",
    "This part is used to extract, transform and load data from the raw chess game data in order to create a new dataset"
   ]
  },
  {
   "cell_type": "code",
   "execution_count": 11,
   "metadata": {},
   "outputs": [],
   "source": [
    "players = ['Caruana', 'Polgar', 'Fischer', 'Morphy', 'Botvinnik', 'Tal',\n",
    " 'Kasparov', 'Anand', 'Carlsen', 'Nakamura', 'Alekhine', 'Capablanca']"
   ]
  },
  {
   "cell_type": "code",
   "execution_count": 44,
   "metadata": {},
   "outputs": [],
   "source": [
    "end_game_turn = [0] * 400\n",
    "game_count = 0 \n",
    "game_result = {'1/2-1/2': 0, '1-0': 0, '0-1': 0}"
   ]
  },
  {
   "cell_type": "code",
   "execution_count": 55,
   "metadata": {},
   "outputs": [
    {
     "ename": "KeyboardInterrupt",
     "evalue": "",
     "output_type": "error",
     "traceback": [
      "\u001b[0;31m---------------------------------------------------------------------------\u001b[0m",
      "\u001b[0;31mKeyboardInterrupt\u001b[0m                         Traceback (most recent call last)",
      "\u001b[1;32m/home/trinhhung/d/hust/semester6/ai_introduction_it3160/src/chess-ai/analysis/data_analysis.ipynb Cell 6'\u001b[0m in \u001b[0;36m<cell line: 1>\u001b[0;34m()\u001b[0m\n\u001b[1;32m     <a href='vscode-notebook-cell:/home/trinhhung/d/hust/semester6/ai_introduction_it3160/src/chess-ai/analysis/data_analysis.ipynb#ch0000005?line=15'>16</a>\u001b[0m   game_result[\u001b[39m'\u001b[39m\u001b[39m1/2-1/2\u001b[39m\u001b[39m'\u001b[39m] \u001b[39m+\u001b[39m\u001b[39m=\u001b[39m \u001b[39m1\u001b[39m\n\u001b[1;32m     <a href='vscode-notebook-cell:/home/trinhhung/d/hust/semester6/ai_introduction_it3160/src/chess-ai/analysis/data_analysis.ipynb#ch0000005?line=18'>19</a>\u001b[0m \u001b[39mfor\u001b[39;00m turn, move \u001b[39min\u001b[39;00m \u001b[39menumerate\u001b[39m(first_game\u001b[39m.\u001b[39mmainline_moves()):\n\u001b[0;32m---> <a href='vscode-notebook-cell:/home/trinhhung/d/hust/semester6/ai_introduction_it3160/src/chess-ai/analysis/data_analysis.ipynb#ch0000005?line=19'>20</a>\u001b[0m   board\u001b[39m.\u001b[39;49mpush(move)\n\u001b[1;32m     <a href='vscode-notebook-cell:/home/trinhhung/d/hust/semester6/ai_introduction_it3160/src/chess-ai/analysis/data_analysis.ipynb#ch0000005?line=20'>21</a>\u001b[0m   board_str \u001b[39m=\u001b[39m \u001b[39mstr\u001b[39m(board)\n\u001b[1;32m     <a href='vscode-notebook-cell:/home/trinhhung/d/hust/semester6/ai_introduction_it3160/src/chess-ai/analysis/data_analysis.ipynb#ch0000005?line=22'>23</a>\u001b[0m end_game_turn[turn] \u001b[39m+\u001b[39m\u001b[39m=\u001b[39m \u001b[39m1\u001b[39m\n",
      "File \u001b[0;32m~/d/hust/semester6/ai_introduction_it3160/src/chess-ai/.venv/lib/python3.8/site-packages/chess/__init__.py:2195\u001b[0m, in \u001b[0;36mBoard.push\u001b[0;34m(self, move)\u001b[0m\n\u001b[1;32m   2192\u001b[0m     \u001b[39mreturn\u001b[39;00m\n\u001b[1;32m   2194\u001b[0m \u001b[39m# Zero the half-move clock.\u001b[39;00m\n\u001b[0;32m-> 2195\u001b[0m \u001b[39mif\u001b[39;00m \u001b[39mself\u001b[39;49m\u001b[39m.\u001b[39;49mis_zeroing(move):\n\u001b[1;32m   2196\u001b[0m     \u001b[39mself\u001b[39m\u001b[39m.\u001b[39mhalfmove_clock \u001b[39m=\u001b[39m \u001b[39m0\u001b[39m\n\u001b[1;32m   2198\u001b[0m from_bb \u001b[39m=\u001b[39m BB_SQUARES[move\u001b[39m.\u001b[39mfrom_square]\n",
      "File \u001b[0;32m~/d/hust/semester6/ai_introduction_it3160/src/chess-ai/.venv/lib/python3.8/site-packages/chess/__init__.py:3117\u001b[0m, in \u001b[0;36mBoard.is_zeroing\u001b[0;34m(self, move)\u001b[0m\n\u001b[1;32m   3115\u001b[0m \u001b[39mdef\u001b[39;00m \u001b[39mis_zeroing\u001b[39m(\u001b[39mself\u001b[39m, move: Move) \u001b[39m-\u001b[39m\u001b[39m>\u001b[39m \u001b[39mbool\u001b[39m:\n\u001b[1;32m   3116\u001b[0m     \u001b[39m\"\"\"Checks if the given pseudo-legal move is a capture or pawn move.\"\"\"\u001b[39;00m\n\u001b[0;32m-> 3117\u001b[0m     touched \u001b[39m=\u001b[39m BB_SQUARES[move\u001b[39m.\u001b[39;49mfrom_square] \u001b[39m^\u001b[39;49m BB_SQUARES[move\u001b[39m.\u001b[39;49mto_square]\n\u001b[1;32m   3118\u001b[0m     \u001b[39mreturn\u001b[39;00m \u001b[39mbool\u001b[39m(touched \u001b[39m&\u001b[39m \u001b[39mself\u001b[39m\u001b[39m.\u001b[39mpawns \u001b[39mor\u001b[39;00m touched \u001b[39m&\u001b[39m \u001b[39mself\u001b[39m\u001b[39m.\u001b[39moccupied_co[\u001b[39mnot\u001b[39;00m \u001b[39mself\u001b[39m\u001b[39m.\u001b[39mturn] \u001b[39mor\u001b[39;00m move\u001b[39m.\u001b[39mdrop \u001b[39m==\u001b[39m PAWN)\n",
      "\u001b[0;31mKeyboardInterrupt\u001b[0m: "
     ]
    }
   ],
   "source": [
    "for player in players:\n",
    "  gameList = os.listdir('../raw_game/' + player)\n",
    "  for game in gameList:\n",
    "    game_count += 1\n",
    "    \n",
    "    gameLink = '../raw_game/' + player + '/' + game\n",
    "    \n",
    "    pgn = open(gameLink, encoding=\"utf-8\")\n",
    "\n",
    "    first_game = chess.pgn.read_game(pgn)\n",
    "    board = first_game.board()\n",
    "    \n",
    "    if first_game.headers['Result'] != \"*\":\n",
    "      game_result[first_game.headers['Result']] += 1\n",
    "    else:\n",
    "      game_result['1/2-1/2'] += 1\n",
    "    \n",
    "    \n",
    "    for turn, move in enumerate(first_game.mainline_moves()):\n",
    "      board.push(move)\n",
    "      board_str = str(board)\n",
    "          \n",
    "    end_game_turn[turn] += 1"
   ]
  },
  {
   "cell_type": "markdown",
   "metadata": {},
   "source": [
    "# Analysis about data here"
   ]
  },
  {
   "cell_type": "markdown",
   "metadata": {},
   "source": [
    "## Number of chess game"
   ]
  },
  {
   "cell_type": "code",
   "execution_count": 46,
   "metadata": {},
   "outputs": [
    {
     "data": {
      "text/plain": [
       "21587"
      ]
     },
     "execution_count": 46,
     "metadata": {},
     "output_type": "execute_result"
    }
   ],
   "source": [
    "game_count"
   ]
  },
  {
   "cell_type": "markdown",
   "metadata": {},
   "source": [
    "## Chess result analysis\n",
    "With draw result the file log is '1/2-1/2' with 8844 games, white win with '1-0' in 7589 games and black win with '0-1' in 5154 games"
   ]
  },
  {
   "cell_type": "code",
   "execution_count": 47,
   "metadata": {},
   "outputs": [
    {
     "data": {
      "text/plain": [
       "{'1/2-1/2': 8844, '1-0': 7589, '0-1': 5154}"
      ]
     },
     "execution_count": 47,
     "metadata": {},
     "output_type": "execute_result"
    }
   ],
   "source": [
    "game_result"
   ]
  },
  {
   "cell_type": "markdown",
   "metadata": {},
   "source": [
    "## Length of chess game"
   ]
  },
  {
   "cell_type": "code",
   "execution_count": 49,
   "metadata": {},
   "outputs": [],
   "source": [
    "sum = 0\n",
    "for (turn, frequency) in enumerate(end_game_turn):\n",
    "  sum += (turn + 1) * frequency"
   ]
  },
  {
   "cell_type": "code",
   "execution_count": 53,
   "metadata": {},
   "outputs": [
    {
     "data": {
      "text/plain": [
       "83.62875804882569"
      ]
     },
     "execution_count": 53,
     "metadata": {},
     "output_type": "execute_result"
    }
   ],
   "source": [
    "# Length of chess turn\n",
    "sum / game_count"
   ]
  }
 ],
 "metadata": {
  "language_info": {
   "name": "python"
  },
  "orig_nbformat": 4
 },
 "nbformat": 4,
 "nbformat_minor": 2
}

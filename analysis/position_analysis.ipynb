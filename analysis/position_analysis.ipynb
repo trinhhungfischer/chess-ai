{
 "cells": [
  {
   "cell_type": "code",
   "execution_count": 1,
   "metadata": {},
   "outputs": [],
   "source": [
    "import chess\n",
    "import chess.pgn as pgn\n",
    "import os\n",
    "import pandas as pd\n",
    "import numpy as np\n",
    "import matplotlib.pyplot as plt\n",
    "import matplotlib.colors as colors\n",
    "import matplotlib.ticker as ticker\n",
    "import copy\n",
    "from matplotlib.pyplot import figure\n",
    "import matplotlib"
   ]
  },
  {
   "cell_type": "markdown",
   "metadata": {},
   "source": [
    "# Data ETL\n",
    "**Caution: If the directory \"./position-analysis\" existed and had data, you can pass this part.**\n",
    "\n",
    "\n",
    "This part is used to extract, transform and load data from the raw chess game data in order to create a new dataset"
   ]
  },
  {
   "cell_type": "code",
   "execution_count": 2,
   "metadata": {},
   "outputs": [],
   "source": [
    "players = ['Caruana', 'Polgar', 'Fischer', 'Morphy', 'Botvinnik', 'Tal',\n",
    " 'Kasparov', 'Anand', 'Carlsen', 'Nakamura', 'Alekhine', 'Capablanca']"
   ]
  },
  {
   "cell_type": "code",
   "execution_count": 3,
   "metadata": {},
   "outputs": [
    {
     "ename": "FileNotFoundError",
     "evalue": "[WinError 3] The system cannot find the path specified: '../raw_game/Caruana'",
     "output_type": "error",
     "traceback": [
      "\u001b[1;31m---------------------------------------------------------------------------\u001b[0m",
      "\u001b[1;31mFileNotFoundError\u001b[0m                         Traceback (most recent call last)",
      "\u001b[1;32md:\\lab\\github\\chess-ai\\analysis\\position_analysis.ipynb Cell 4'\u001b[0m in \u001b[0;36m<cell line: 4>\u001b[1;34m()\u001b[0m\n\u001b[0;32m      <a href='vscode-notebook-cell:/d%3A/lab/github/chess-ai/analysis/position_analysis.ipynb#ch0000003?line=1'>2</a>\u001b[0m mapp \u001b[39m=\u001b[39m {\u001b[39m1\u001b[39m: [\u001b[39m0\u001b[39m] \u001b[39m*\u001b[39m \u001b[39m64\u001b[39m, \u001b[39m2\u001b[39m: [\u001b[39m0\u001b[39m] \u001b[39m*\u001b[39m \u001b[39m64\u001b[39m, \u001b[39m3\u001b[39m: [\u001b[39m0\u001b[39m] \u001b[39m*\u001b[39m \u001b[39m64\u001b[39m, \u001b[39m4\u001b[39m: [\u001b[39m0\u001b[39m] \u001b[39m*\u001b[39m \u001b[39m64\u001b[39m, \u001b[39m5\u001b[39m: [\u001b[39m0\u001b[39m] \u001b[39m*\u001b[39m \u001b[39m64\u001b[39m, \u001b[39m6\u001b[39m: [\u001b[39m0\u001b[39m] \u001b[39m*\u001b[39m \u001b[39m64\u001b[39m}\n\u001b[0;32m      <a href='vscode-notebook-cell:/d%3A/lab/github/chess-ai/analysis/position_analysis.ipynb#ch0000003?line=3'>4</a>\u001b[0m \u001b[39mfor\u001b[39;00m player \u001b[39min\u001b[39;00m players:\n\u001b[1;32m----> <a href='vscode-notebook-cell:/d%3A/lab/github/chess-ai/analysis/position_analysis.ipynb#ch0000003?line=4'>5</a>\u001b[0m   gameList \u001b[39m=\u001b[39m os\u001b[39m.\u001b[39;49mlistdir(\u001b[39m'\u001b[39;49m\u001b[39m../raw_game/\u001b[39;49m\u001b[39m'\u001b[39;49m \u001b[39m+\u001b[39;49m player)\n\u001b[0;32m      <a href='vscode-notebook-cell:/d%3A/lab/github/chess-ai/analysis/position_analysis.ipynb#ch0000003?line=5'>6</a>\u001b[0m   \u001b[39mfor\u001b[39;00m game \u001b[39min\u001b[39;00m gameList:\n\u001b[0;32m      <a href='vscode-notebook-cell:/d%3A/lab/github/chess-ai/analysis/position_analysis.ipynb#ch0000003?line=6'>7</a>\u001b[0m     gameLink \u001b[39m=\u001b[39m \u001b[39m'\u001b[39m\u001b[39m../raw_game/\u001b[39m\u001b[39m'\u001b[39m \u001b[39m+\u001b[39m player \u001b[39m+\u001b[39m \u001b[39m'\u001b[39m\u001b[39m/\u001b[39m\u001b[39m'\u001b[39m \u001b[39m+\u001b[39m game\n",
      "\u001b[1;31mFileNotFoundError\u001b[0m: [WinError 3] The system cannot find the path specified: '../raw_game/Caruana'"
     ]
    },
    {
     "ename": "",
     "evalue": "",
     "output_type": "error",
     "traceback": [
      "\u001b[1;31mThe Kernel crashed while executing code in the the current cell or a previous cell. Please review the code in the cell(s) to identify a possible cause of the failure. Click <a href='https://aka.ms/vscodeJupyterKernelCrash'>here</a> for more info. View Jupyter <a href='command:jupyter.viewOutput'>log</a> for further details."
     ]
    }
   ],
   "source": [
    "chess_pieces_type = [i for i in range (1, 7)]\n",
    "mapp = {1: [0] * 64, 2: [0] * 64, 3: [0] * 64, 4: [0] * 64, 5: [0] * 64, 6: [0] * 64}\n",
    "\n",
    "for player in players:\n",
    "  gameList = os.listdir('../raw_game/' + player)\n",
    "  for game in gameList:\n",
    "    gameLink = '../raw_game/' + player + '/' + game\n",
    "    \n",
    "    pgn = open(gameLink)\n",
    "\n",
    "    first_game = chess.pgn.read_game(pgn)\n",
    "    board = first_game.board()\n",
    "    \n",
    "\n",
    "    for turn, move in enumerate(first_game.mainline_moves()):\n",
    "      board.push(move)\n",
    "      for piece in chess_pieces_type:\n",
    "        li = list(board.pieces(piece_type=piece, color=True))\n",
    "        # print(li)\n",
    "        for i in li:\n",
    "          mapp[piece][i] += 1\n",
    "\n",
    "white_data = pd.DataFrame(mapp)\n",
    "white_data.rename(columns = {1:'P', 2:'N', 3:'B', 4:'R', 5:'Q', 6:'K'}, inplace=True)"
   ]
  },
  {
   "cell_type": "code",
   "execution_count": 10,
   "metadata": {},
   "outputs": [
    {
     "ename": "FileNotFoundError",
     "evalue": "[WinError 3] The system cannot find the path specified: '../raw_game/Caruana'",
     "output_type": "error",
     "traceback": [
      "\u001b[1;31m---------------------------------------------------------------------------\u001b[0m",
      "\u001b[1;31mFileNotFoundError\u001b[0m                         Traceback (most recent call last)",
      "\u001b[1;32md:\\lab\\github\\chess-ai\\analysis\\position_analysis.ipynb Cell 5'\u001b[0m in \u001b[0;36m<cell line: 4>\u001b[1;34m()\u001b[0m\n\u001b[0;32m      <a href='vscode-notebook-cell:/d%3A/lab/github/chess-ai/analysis/position_analysis.ipynb#ch0000004?line=1'>2</a>\u001b[0m mapp \u001b[39m=\u001b[39m {\u001b[39m1\u001b[39m: [\u001b[39m0\u001b[39m] \u001b[39m*\u001b[39m \u001b[39m64\u001b[39m, \u001b[39m2\u001b[39m: [\u001b[39m0\u001b[39m] \u001b[39m*\u001b[39m \u001b[39m64\u001b[39m, \u001b[39m3\u001b[39m: [\u001b[39m0\u001b[39m] \u001b[39m*\u001b[39m \u001b[39m64\u001b[39m, \u001b[39m4\u001b[39m: [\u001b[39m0\u001b[39m] \u001b[39m*\u001b[39m \u001b[39m64\u001b[39m, \u001b[39m5\u001b[39m: [\u001b[39m0\u001b[39m] \u001b[39m*\u001b[39m \u001b[39m64\u001b[39m, \u001b[39m6\u001b[39m: [\u001b[39m0\u001b[39m] \u001b[39m*\u001b[39m \u001b[39m64\u001b[39m}\n\u001b[0;32m      <a href='vscode-notebook-cell:/d%3A/lab/github/chess-ai/analysis/position_analysis.ipynb#ch0000004?line=3'>4</a>\u001b[0m \u001b[39mfor\u001b[39;00m player \u001b[39min\u001b[39;00m players:\n\u001b[1;32m----> <a href='vscode-notebook-cell:/d%3A/lab/github/chess-ai/analysis/position_analysis.ipynb#ch0000004?line=4'>5</a>\u001b[0m   gameList \u001b[39m=\u001b[39m os\u001b[39m.\u001b[39;49mlistdir(\u001b[39m'\u001b[39;49m\u001b[39m../raw_game/\u001b[39;49m\u001b[39m'\u001b[39;49m \u001b[39m+\u001b[39;49m player)\n\u001b[0;32m      <a href='vscode-notebook-cell:/d%3A/lab/github/chess-ai/analysis/position_analysis.ipynb#ch0000004?line=5'>6</a>\u001b[0m   \u001b[39mfor\u001b[39;00m game \u001b[39min\u001b[39;00m gameList:\n\u001b[0;32m      <a href='vscode-notebook-cell:/d%3A/lab/github/chess-ai/analysis/position_analysis.ipynb#ch0000004?line=6'>7</a>\u001b[0m     gameLink \u001b[39m=\u001b[39m \u001b[39m'\u001b[39m\u001b[39m../raw_game/\u001b[39m\u001b[39m'\u001b[39m \u001b[39m+\u001b[39m player \u001b[39m+\u001b[39m \u001b[39m'\u001b[39m\u001b[39m/\u001b[39m\u001b[39m'\u001b[39m \u001b[39m+\u001b[39m game\n",
      "\u001b[1;31mFileNotFoundError\u001b[0m: [WinError 3] The system cannot find the path specified: '../raw_game/Caruana'"
     ]
    }
   ],
   "source": [
    "chess_pieces_type = [i for i in range (1, 7)]\n",
    "mapp = {1: [0] * 64, 2: [0] * 64, 3: [0] * 64, 4: [0] * 64, 5: [0] * 64, 6: [0] * 64}\n",
    "\n",
    "for player in players:\n",
    "  gameList = os.listdir('../raw_game/' + player)\n",
    "  for game in gameList:\n",
    "    gameLink = '../raw_game/' + player + '/' + game\n",
    "    \n",
    "    pgn = open(gameLink)\n",
    "\n",
    "    first_game = chess.pgn.read_game(pgn)\n",
    "    board = first_game.board()\n",
    "    \n",
    "\n",
    "    for turn, move in enumerate(first_game.mainline_moves()):\n",
    "      board.push(move)\n",
    "      for piece in chess_pieces_type:\n",
    "        li = list(board.pieces(piece_type=piece, color=False))\n",
    "        # print(li)\n",
    "        for i in li:\n",
    "          mapp[piece][i] += 1\n",
    "\n",
    "black_data = pd.DataFrame(mapp)\n",
    "black_data.rename(columns = {1:'p', 2:'n', 3:'b', 4:'r', 5:'q', 6:'k'}, inplace=True)"
   ]
  },
  {
   "cell_type": "code",
   "execution_count": null,
   "metadata": {},
   "outputs": [
    {
     "ename": "NameError",
     "evalue": "name 'white_data' is not defined",
     "output_type": "error",
     "traceback": [
      "\u001b[1;31m---------------------------------------------------------------------------\u001b[0m",
      "\u001b[1;31mNameError\u001b[0m                                 Traceback (most recent call last)",
      "\u001b[1;32md:\\lab\\github\\chess-ai\\analysis\\position_analysis.ipynb Cell 6'\u001b[0m in \u001b[0;36m<cell line: 1>\u001b[1;34m()\u001b[0m\n\u001b[1;32m----> <a href='vscode-notebook-cell:/d%3A/lab/github/chess-ai/analysis/position_analysis.ipynb#ch0000005?line=0'>1</a>\u001b[0m piece_data \u001b[39m=\u001b[39m white_data\u001b[39m.\u001b[39mjoin(black_data)\n\u001b[0;32m      <a href='vscode-notebook-cell:/d%3A/lab/github/chess-ai/analysis/position_analysis.ipynb#ch0000005?line=1'>2</a>\u001b[0m piece_data\u001b[39m.\u001b[39minsert(loc\u001b[39m=\u001b[39m\u001b[39m0\u001b[39m, column \u001b[39m=\u001b[39m \u001b[39m'\u001b[39m\u001b[39mSquare\u001b[39m\u001b[39m'\u001b[39m, value \u001b[39m=\u001b[39m \u001b[39mrange\u001b[39m(\u001b[39m0\u001b[39m, \u001b[39mlen\u001b[39m(piece_data)))\n\u001b[0;32m      <a href='vscode-notebook-cell:/d%3A/lab/github/chess-ai/analysis/position_analysis.ipynb#ch0000005?line=2'>3</a>\u001b[0m piece_data\u001b[39m.\u001b[39mto_csv(\u001b[39m'\u001b[39m\u001b[39mposition-analysis.csv\u001b[39m\u001b[39m'\u001b[39m, index\u001b[39m=\u001b[39m\u001b[39mFalse\u001b[39;00m)\n",
      "\u001b[1;31mNameError\u001b[0m: name 'white_data' is not defined"
     ]
    }
   ],
   "source": [
    "piece_data = white_data.join(black_data)\n",
    "piece_data.insert(loc=0, column = 'Square', value = range(0, len(piece_data)))\n",
    "piece_data.to_csv('position-analysis.csv', index=False)"
   ]
  },
  {
   "cell_type": "markdown",
   "metadata": {},
   "source": [
    "# Data EDA"
   ]
  },
  {
   "cell_type": "code",
   "execution_count": null,
   "metadata": {},
   "outputs": [
    {
     "ename": "NameError",
     "evalue": "name 'pd' is not defined",
     "output_type": "error",
     "traceback": [
      "\u001b[1;31m---------------------------------------------------------------------------\u001b[0m",
      "\u001b[1;31mNameError\u001b[0m                                 Traceback (most recent call last)",
      "\u001b[1;32md:\\lab\\github\\chess-ai\\analysis\\position_analysis.ipynb Cell 8'\u001b[0m in \u001b[0;36m<cell line: 1>\u001b[1;34m()\u001b[0m\n\u001b[1;32m----> <a href='vscode-notebook-cell:/d%3A/lab/github/chess-ai/analysis/position_analysis.ipynb#ch0000007?line=0'>1</a>\u001b[0m piece_data \u001b[39m=\u001b[39m pd\u001b[39m.\u001b[39mread_csv(\u001b[39m\"\u001b[39m\u001b[39mposition-analysis.csv\u001b[39m\u001b[39m\"\u001b[39m)\n",
      "\u001b[1;31mNameError\u001b[0m: name 'pd' is not defined"
     ]
    }
   ],
   "source": [
    "piece_data = pd.read_csv(\"position-analysis.csv\")"
   ]
  },
  {
   "cell_type": "code",
   "execution_count": 1,
   "metadata": {},
   "outputs": [
    {
     "ename": "NameError",
     "evalue": "name 'piece_data' is not defined",
     "output_type": "error",
     "traceback": [
      "\u001b[1;31m---------------------------------------------------------------------------\u001b[0m",
      "\u001b[1;31mNameError\u001b[0m                                 Traceback (most recent call last)",
      "\u001b[1;32md:\\lab\\github\\chess-ai\\analysis\\position_analysis.ipynb Cell 9'\u001b[0m in \u001b[0;36m<cell line: 1>\u001b[1;34m()\u001b[0m\n\u001b[1;32m----> <a href='vscode-notebook-cell:/d%3A/lab/github/chess-ai/analysis/position_analysis.ipynb#ch0000008?line=0'>1</a>\u001b[0m piece_data\u001b[39m.\u001b[39mdescribe()\n",
      "\u001b[1;31mNameError\u001b[0m: name 'piece_data' is not defined"
     ]
    }
   ],
   "source": [
    "piece_data.describe()"
   ]
  },
  {
   "cell_type": "code",
   "execution_count": null,
   "metadata": {},
   "outputs": [
    {
     "ename": "NameError",
     "evalue": "name 'piece_data' is not defined",
     "output_type": "error",
     "traceback": [
      "\u001b[1;31m---------------------------------------------------------------------------\u001b[0m",
      "\u001b[1;31mNameError\u001b[0m                                 Traceback (most recent call last)",
      "\u001b[1;32md:\\lab\\github\\chess-ai\\analysis\\position_analysis.ipynb Cell 10'\u001b[0m in \u001b[0;36m<cell line: 7>\u001b[1;34m()\u001b[0m\n\u001b[0;32m      <a href='vscode-notebook-cell:/d%3A/lab/github/chess-ai/analysis/position_analysis.ipynb#ch0000009?line=3'>4</a>\u001b[0m columns \u001b[39m=\u001b[39m [\u001b[39m'\u001b[39m\u001b[39ma\u001b[39m\u001b[39m'\u001b[39m, \u001b[39m'\u001b[39m\u001b[39mb\u001b[39m\u001b[39m'\u001b[39m, \u001b[39m'\u001b[39m\u001b[39mc\u001b[39m\u001b[39m'\u001b[39m, \u001b[39m'\u001b[39m\u001b[39md\u001b[39m\u001b[39m'\u001b[39m, \u001b[39m'\u001b[39m\u001b[39me\u001b[39m\u001b[39m'\u001b[39m, \u001b[39m'\u001b[39m\u001b[39mf\u001b[39m\u001b[39m'\u001b[39m, \u001b[39m'\u001b[39m\u001b[39mg\u001b[39m\u001b[39m'\u001b[39m, \u001b[39m'\u001b[39m\u001b[39mh\u001b[39m\u001b[39m'\u001b[39m]\n\u001b[0;32m      <a href='vscode-notebook-cell:/d%3A/lab/github/chess-ai/analysis/position_analysis.ipynb#ch0000009?line=4'>5</a>\u001b[0m rows \u001b[39m=\u001b[39m [i \u001b[39mfor\u001b[39;00m i \u001b[39min\u001b[39;00m \u001b[39mrange\u001b[39m(\u001b[39m1\u001b[39m, \u001b[39m9\u001b[39m)]\n\u001b[1;32m----> <a href='vscode-notebook-cell:/d%3A/lab/github/chess-ai/analysis/position_analysis.ipynb#ch0000009?line=6'>7</a>\u001b[0m sumOfChessPostion \u001b[39m=\u001b[39m piece_data\u001b[39m.\u001b[39msum(axis\u001b[39m=\u001b[39m\u001b[39m0\u001b[39m)\n\u001b[0;32m      <a href='vscode-notebook-cell:/d%3A/lab/github/chess-ai/analysis/position_analysis.ipynb#ch0000009?line=8'>9</a>\u001b[0m \u001b[39m# Calculate the probability of each postion with each piece\u001b[39;00m\n\u001b[0;32m     <a href='vscode-notebook-cell:/d%3A/lab/github/chess-ai/analysis/position_analysis.ipynb#ch0000009?line=9'>10</a>\u001b[0m \u001b[39mfor\u001b[39;00m piece \u001b[39min\u001b[39;00m chess_pieces:\n",
      "\u001b[1;31mNameError\u001b[0m: name 'piece_data' is not defined"
     ]
    }
   ],
   "source": [
    "chess_pieces = ['P', 'R', 'N', 'B', 'Q', 'K', \n",
    "            'p', 'r', 'n', 'b', 'q', 'k']\n",
    "\n",
    "columns = ['a', 'b', 'c', 'd', 'e', 'f', 'g', 'h']\n",
    "rows = [i for i in range(1, 9)]\n",
    "\n",
    "sumOfChessPostion = piece_data.sum(axis=0)\n",
    "\n",
    "# Calculate the probability of each postion with each piece\n",
    "for piece in chess_pieces:\n",
    "  piece_data[piece] = piece_data[piece] / sumOfChessPostion[piece]\n",
    "\n",
    "# Transform sqare index to the actual position in board in order to make visual\n",
    "piece_data['Row'] = piece_data['Square'].apply(\n",
    "  lambda x: rows[int(x / 8)]\n",
    ")\n",
    "\n",
    "piece_data['Column'] = piece_data['Square'].apply(\n",
    "  lambda x: columns[x % 8]\n",
    ")\n"
   ]
  },
  {
   "cell_type": "code",
   "execution_count": 1,
   "metadata": {},
   "outputs": [
    {
     "ename": "NameError",
     "evalue": "name 'piece_data' is not defined",
     "output_type": "error",
     "traceback": [
      "\u001b[1;31m---------------------------------------------------------------------------\u001b[0m",
      "\u001b[1;31mNameError\u001b[0m                                 Traceback (most recent call last)",
      "\u001b[1;32md:\\lab\\github\\chess-ai\\analysis\\position_analysis.ipynb Cell 11'\u001b[0m in \u001b[0;36m<cell line: 1>\u001b[1;34m()\u001b[0m\n\u001b[1;32m----> <a href='vscode-notebook-cell:/d%3A/lab/github/chess-ai/analysis/position_analysis.ipynb#ch0000010?line=0'>1</a>\u001b[0m piece_data\n",
      "\u001b[1;31mNameError\u001b[0m: name 'piece_data' is not defined"
     ]
    }
   ],
   "source": [
    "piece_data"
   ]
  },
  {
   "cell_type": "code",
   "execution_count": null,
   "metadata": {},
   "outputs": [],
   "source": [
    "norm = colors.LogNorm(vmin=1e-4, vmax=1e-1) \n",
    "cmap = copy.copy(matplotlib.cm.get_cmap('coolwarm'))\n",
    "cmap.set_bad(cmap(0))\n",
    "titleOfPiece = {'p': 'Pawn', 'n': 'Knight', 'b': 'Bishop', 'r': 'Rook', 'q': 'Queen', 'k': 'King'}\n",
    "\n",
    "fig, ax = plt.subplots(4, 3)\n",
    "fig.set_figheight(15)\n",
    "fig.set_figwidth(15)\n",
    "\n",
    "iter = 0\n",
    "for key in chess_pieces:\n",
    "  this_ax = ax[np.unravel_index(iter, (4, 3))]\n",
    "  iter += 1\n",
    "\n",
    "  color = 'White' if (key.isupper()) else 'Black'\n",
    "  title = color + ' ' + titleOfPiece[key.lower()]\n",
    "\n",
    "  iloc = piece_data.columns.get_loc(key)\n",
    "  data = piece_data.iloc[::-1,  iloc].to_numpy().reshape((8, 8))\n",
    "\n",
    "  im = this_ax.imshow(data, norm = norm, cmap = cmap)\n",
    "  \n",
    "  this_ax.xaxis.set_major_formatter(ticker.NullFormatter())\n",
    "  this_ax.xaxis.set_major_locator(ticker.FixedLocator([-0.5, 0.5,1.5,2.5,3.5,4.5,5.5, 6.5]))\n",
    "  this_ax.xaxis.set_minor_locator(ticker.FixedLocator([0, 1, 2, 3, 4, 5, 6, 7]))\n",
    "  this_ax.xaxis.set_minor_formatter(ticker.FixedFormatter(['a', 'b', 'c', 'd', 'e', 'f', 'g', 'h']))\n",
    "\n",
    "  this_ax.yaxis.set_major_formatter(ticker.NullFormatter())\n",
    "  this_ax.yaxis.set_major_locator(ticker.FixedLocator([-0.5, 0.5,1.5,2.5,3.5,4.5,5.5, 6.5]))\n",
    "  this_ax.yaxis.set_minor_locator(ticker.FixedLocator([0, 1, 2, 3, 4, 5, 6, 7]))\n",
    "  this_ax.yaxis.set_minor_formatter(ticker.FixedFormatter(['8', '7', '6', '5', '4', '3', '2', '1']))\n",
    "\n",
    "  this_ax.set_title(title)\n",
    "  this_ax.grid(color = 'black')\n",
    "\n",
    "\n",
    "cbar_ax = fig.add_axes([0.9, 0.15, 0.05, 0.7])\n",
    "cbar = fig.colorbar(im, extend = 'both', cax=cbar_ax)\n",
    "\n",
    "fig.suptitle('Probability of Chess Piece Positions', fontsize = 24)\n",
    "\n",
    "plt.subplots_adjust(left=0.1,\n",
    "                    bottom=0.1, \n",
    "                    right=0.9, \n",
    "                    top=0.9, \n",
    "                    hspace=0.3)\n",
    "\n",
    "fig.patch.set_facecolor('white')\n",
    "plt.savefig('../analysis/probability-chess-position.png', transparent=False)\n",
    "plt.show()\n"
   ]
  },
  {
   "cell_type": "markdown",
   "metadata": {},
   "source": [
    "Viet phan tich cho hinh tren nha"
   ]
  },
  {
   "cell_type": "code",
   "execution_count": null,
   "metadata": {},
   "outputs": [],
   "source": []
  },
  {
   "cell_type": "code",
   "execution_count": null,
   "metadata": {},
   "outputs": [],
   "source": []
  },
  {
   "cell_type": "markdown",
   "metadata": {},
   "source": [
    ">Các quân tốt ở giữa có xu hướng tham gia kiểm soát trung tâm, đặc biệt là vị trí d4, e4 với tốt trắng và d5, e5 với tốt đen, các quân tốt còn lại không di chuyển nhiều để tạo hàng rào bảo vệ tướng.\n",
    "\n",
    "> Xe tập trung di chuyển ở hàng 1 đối với xe trắng và hàng 8 đối với xe đen do khả năng di chuyển của xe.\n",
    "\n",
    "> Mã tham gia vào chiếm lĩnh trung tâm cùng với các tốt ở giữa, hai vị trí yêu thích của mã là c3, f3 đối với mã trắng và c6, f6 đối với mã đen\n",
    "\n",
    "> Tịnh tập trung chiếm lĩnh các đường chéo lớn do khả năng di chuyển của tịnh.\n",
    "\n",
    ">Hậu di chuyển nhiều và đa dạng trên bàn cờ.\n",
    "\n",
    "> Vua hầu như đứng yên trong cả trận đấu, vua có hai vị trí yêu thích là vị trí ban đầu và vị trí sau khi nhập thành cánh xe.\n"
   ]
  }
 ],
 "metadata": {
  "interpreter": {
   "hash": "58dbfdb34cf82127b32c5737e6183911655ff227e5c11e8f5e4b25048ae98ef2"
  },
  "kernelspec": {
   "display_name": "Python 3.10.4 64-bit (windows store)",
   "language": "python",
   "name": "python3"
  },
  "language_info": {
   "codemirror_mode": {
    "name": "ipython",
    "version": 3
   },
   "file_extension": ".py",
   "mimetype": "text/x-python",
   "name": "python",
   "nbconvert_exporter": "python",
   "pygments_lexer": "ipython3",
   "version": "3.10.4"
  },
  "orig_nbformat": 4
 },
 "nbformat": 4,
 "nbformat_minor": 2
}
